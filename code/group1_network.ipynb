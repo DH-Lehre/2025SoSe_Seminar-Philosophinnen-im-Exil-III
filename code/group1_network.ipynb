{
 "cells": [
  {
   "cell_type": "code",
   "execution_count": 7,
   "id": "df1fcb78",
   "metadata": {},
   "outputs": [],
   "source": [
    "from bs4 import BeautifulSoup\n",
    "import pathlib, os\n",
    "import networkx as nx\n",
    "from pyvis.network import Network\n",
    "import requests\n",
    "from collections import defaultdict\n",
    "import matplotlib.colors as mcolors"
   ]
  },
  {
   "cell_type": "markdown",
   "id": "57c92793",
   "metadata": {},
   "source": [
    "Netzwerkvisualisierung der in den Briefen erwähnten Personen\n",
    "Die beiden Graphen wurden dadurch realisiert, dass die Briefe in 2 verschiedenen Verzeichnissen gespeichert wurden & das Skript entsprechend über beide Verzeichnisse laufen gelassen wurde.\n",
    "Entsprechend muss man ggf. im untersten Code-Abschnitt auch noch den Ziel-Pfad der HTML-Datei anpassen, damit die erste generierte Datei nicht überschrieben wird."
   ]
  },
  {
   "cell_type": "code",
   "execution_count": 8,
   "id": "88591599",
   "metadata": {},
   "outputs": [],
   "source": [
    "NOTEBOOK_PATH = pathlib.Path().resolve()\n",
    "DATA_DIRECTORY = NOTEBOOK_PATH / \"data\" / \"annotated\" / \"Labowsky_Klibansky\""
   ]
  },
  {
   "cell_type": "markdown",
   "id": "3312fe8c",
   "metadata": {},
   "source": [
    "Für das Netzwerk und Operationen im Netzwerk wird die Python-Bibliothek [networkx](https://networkx.org/) verwendet. Dazu wird zunächst ein Graph-Objekt erstellt, das anschließend die Knoten und Kanten vorhält. "
   ]
  },
  {
   "cell_type": "code",
   "execution_count": 3,
   "id": "c72d1e6b",
   "metadata": {},
   "outputs": [],
   "source": [
    "G = nx.Graph()"
   ]
  },
  {
   "cell_type": "markdown",
   "id": "e5e57ae9",
   "metadata": {},
   "source": [
    "Um ausgehend von der GND-ID einen Namen sowie ein Geburtsdatum zu erhalten, wird in dieser Funktion eine entsprechende Anfrage an Wikidata gestellt. Dabei wird die Anfrage mit allen IDs gleichzeitig ausgeführt, um die Anzahl der Anfragen an Wikidata zu minimieren. Wikidata hat ein Limit an Anfragen pro Minute, deswegen ist dieses Vorgehen unbedingt notwendig.\n",
    "Name, Geburtsdatum, Todesdatum und Arbeitgeber werden zugehörig zu der GND-ID in einem Dictionary zurückgegeben."
   ]
  },
  {
   "cell_type": "code",
   "execution_count": 9,
   "id": "bc5fbc03",
   "metadata": {},
   "outputs": [],
   "source": [
    "def get_wikidata(gnd_ids):\n",
    "    values = \" \".join(f'\"{gnd}\"' for gnd in gnd_ids)\n",
    "    query = f\"\"\"\n",
    "    SELECT ?gnd ?person ?personLabel ?birthDate ?deathDate ?employerLabel WHERE {{\n",
    "      VALUES ?gnd_id {{ {values} }}\n",
    "      ?person wdt:P227 ?gnd_id.\n",
    "      BIND(?gnd_id AS ?gnd)\n",
    "      OPTIONAL {{ ?person wdt:P569 ?birthDate. }}\n",
    "      OPTIONAL {{ ?person wdt:P570 ?deathDate. }}\n",
    "      OPTIONAL {{ ?person wdt:P108 ?employer. }}\n",
    "      SERVICE wikibase:label {{ bd:serviceParam wikibase:language \"[AUTO_LANGUAGE],en\". }}\n",
    "    }}\n",
    "    \"\"\"\n",
    "    url = 'https://query.wikidata.org/sparql'\n",
    "    headers = {'Accept': 'application/sparql-results+json'}\n",
    "    response = requests.get(url, params={'query': query}, headers=headers)\n",
    "    data = response.json()\n",
    "\n",
    "    temp = defaultdict(lambda: {\"name\": None, \"birth\": None, \"death\": None, \"employers\": set()})\n",
    "\n",
    "    for row in data['results']['bindings']:\n",
    "        gnd_key = 'gnd-' + row['gnd']['value']\n",
    "        name = row.get('personLabel', {}).get('value')\n",
    "        birth = row.get('birthDate', {}).get('value', None)\n",
    "        death = row.get('deathDate', {}).get('value', None)\n",
    "        employer = row.get('employerLabel', {}).get('value', None)\n",
    "\n",
    "        temp[gnd_key][\"name\"] = name\n",
    "        temp[gnd_key][\"birth\"] = birth\n",
    "        temp[gnd_key][\"death\"] = death\n",
    "        if employer:\n",
    "            temp[gnd_key][\"employers\"].add(employer)\n",
    "\n",
    "    results = {\n",
    "        gnd: (\n",
    "            data[\"name\"], \n",
    "            data[\"birth\"],\n",
    "            data[\"death\"], \n",
    "            sorted(data[\"employers\"])\n",
    "        )\n",
    "        for gnd, data in temp.items()\n",
    "    }\n",
    "\n",
    "    return results"
   ]
  },
  {
   "cell_type": "markdown",
   "id": "e0b2a6de",
   "metadata": {},
   "source": [
    "Funktion, um Farben im Ton shiften zu können"
   ]
  },
  {
   "cell_type": "code",
   "execution_count": 10,
   "id": "82c16181",
   "metadata": {},
   "outputs": [],
   "source": [
    "def adjust_color_brightness(hex_color, factor):\n",
    "    \"\"\"\n",
    "    factor < 1 => dunkler, \n",
    "    factor > 1 => heller\n",
    "    \"\"\"\n",
    "    rgb = mcolors.to_rgb(hex_color)\n",
    "    adjusted = tuple(min(max(c * factor, 0), 1) for c in rgb)\n",
    "    return mcolors.to_hex(adjusted)"
   ]
  },
  {
   "cell_type": "code",
   "execution_count": 11,
   "id": "8827ddd0",
   "metadata": {},
   "outputs": [
    {
     "ename": "FileNotFoundError",
     "evalue": "[Errno 2] No such file or directory: '/home/peer/Uni/2025SoSe_Seminar-Philosophinnen-im-Exil-III/code/data/annotated/Labowsky_Klibansky'",
     "output_type": "error",
     "traceback": [
      "\u001b[0;31m---------------------------------------------------------------------------\u001b[0m",
      "\u001b[0;31mFileNotFoundError\u001b[0m                         Traceback (most recent call last)",
      "Cell \u001b[0;32mIn[11], line 1\u001b[0m\n\u001b[0;32m----> 1\u001b[0m \u001b[38;5;28;01mfor\u001b[39;00m FILE_NAME \u001b[38;5;129;01min\u001b[39;00m \u001b[43mos\u001b[49m\u001b[38;5;241;43m.\u001b[39;49m\u001b[43mlistdir\u001b[49m\u001b[43m(\u001b[49m\u001b[43mDATA_DIRECTORY\u001b[49m\u001b[43m)\u001b[49m:\n\u001b[1;32m      2\u001b[0m     \u001b[38;5;28;01mif\u001b[39;00m \u001b[38;5;129;01mnot\u001b[39;00m FILE_NAME\u001b[38;5;241m.\u001b[39mendswith(\u001b[38;5;124m\"\u001b[39m\u001b[38;5;124m.xml\u001b[39m\u001b[38;5;124m\"\u001b[39m):\n\u001b[1;32m      3\u001b[0m         \u001b[38;5;28;01mcontinue\u001b[39;00m\n",
      "\u001b[0;31mFileNotFoundError\u001b[0m: [Errno 2] No such file or directory: '/home/peer/Uni/2025SoSe_Seminar-Philosophinnen-im-Exil-III/code/data/annotated/Labowsky_Klibansky'"
     ]
    }
   ],
   "source": [
    "for FILE_NAME in os.listdir(DATA_DIRECTORY):\n",
    "    if not FILE_NAME.endswith(\".xml\"):\n",
    "        continue\n",
    "\n",
    "    with open(DATA_DIRECTORY / FILE_NAME, \"r\", encoding=\"utf-8\") as f:\n",
    "        soup = BeautifulSoup(f, \"xml\")\n",
    "\n",
    "    pers_names = soup.find_all(\"persName\")\n",
    "    previous_ref = None\n",
    "\n",
    "    for pers in pers_names:\n",
    "        ref = pers.get(\"ref\")\n",
    "        name = pers.get_text(strip=True)\n",
    "\n",
    "        if not ref:\n",
    "            continue  \n",
    "\n",
    "        if not G.has_node(ref):\n",
    "            G.add_node(ref, label=ref, title=name, count=1, names=set())\n",
    "        else:\n",
    "            G.nodes[ref][\"count\"] += 1\n",
    "            G.nodes[ref][\"title\"] += f\", {name}\"\n",
    "    \n",
    "        G.nodes[ref][\"names\"].add(name)\n",
    "\n",
    "        if previous_ref and previous_ref != ref:\n",
    "            G.add_edge(previous_ref, ref)\n",
    "\n",
    "        previous_ref = ref"
   ]
  },
  {
   "cell_type": "code",
   "execution_count": null,
   "id": "af9e4d1e",
   "metadata": {},
   "outputs": [],
   "source": [
    "ids = []\n",
    "for node_id in G.nodes:\n",
    "    ids.append(G.nodes[node_id][\"label\"].replace('gnd-', ''))\n",
    "person_data = get_wikidata(ids)"
   ]
  },
  {
   "cell_type": "markdown",
   "id": "6d3a9d3c",
   "metadata": {},
   "source": [
    "Für die Darstellung des Netzwerks in einer Visualisierung werden die Knoten von Bing, Labowsky und Klibansky rot eingefärbt, um sie schneller identifizieren zu können. Außerdem skalieren wir die Größe der Knoten anhand der Häufigkeit der Nennungen (insgesamt skaliert).\n",
    "\n",
    "* Die restlichen Knoten werden eingefärbt nach dem \"Employer\", insoweit dieser bei Wikidata hinterlegt ist\n",
    "* Außerdem werden Knoten, welche Personen mit einem Geburtsdatum vor 1860 haben, heller hinterlegt\n",
    "* Knoten mit einem Todesdatum zwischen den ersten und letzten Brief-Datierungen werden dunkler hinterlegt. \n",
    "* Knoten, zu denen keine Daten von Wikidata geholt werden konnten, sind grau hinterlegt"
   ]
  },
  {
   "cell_type": "code",
   "execution_count": null,
   "id": "8217f25a",
   "metadata": {},
   "outputs": [],
   "source": [
    "highlight_refs = {\"gnd-1029912939\", \"gnd-118777378\", \"gnd-116183853\"}\n",
    "notable_employers = {'Kulturwissenschaftliche Bibliothek Warburg', 'University of London', 'Warburg Institute'}\n",
    "for node_id in G.nodes:\n",
    "    freq = G.nodes[node_id][\"count\"]\n",
    "    G.nodes[node_id][\"size\"] = 10 + freq * 2\n",
    "    if node_id in person_data:\n",
    "        name = person_data[node_id][0]\n",
    "        \n",
    "        birth_date = person_data[node_id][1]\n",
    "        birth_year = None\n",
    "        if isinstance(birth_date, str) and len(birth_date) >= 4:\n",
    "            try:\n",
    "                birth_year = int(birth_date[:4])\n",
    "            except ValueError:\n",
    "                pass\n",
    "            \n",
    "        death_date = person_data[node_id][2]\n",
    "        death_year = None\n",
    "        if isinstance(death_date, str) and len(death_date) >= 4:\n",
    "            try:\n",
    "                death_year = int(death_date[:4])\n",
    "            except ValueError:\n",
    "                pass\n",
    "            \n",
    "        employers = person_data[node_id][3]\n",
    "        if name  == \"Q133761091\": # Für diesen konkreten Fall funktioniert die Wikidata-Anfrage scheinbar nicht ganz korrekt - diese Lösung war auf die Schnelle einfacher, als die Anfrage umzubauen\n",
    "            G.nodes[node_id][\"title\"] = \"Kenneth Koelln\"\n",
    "            G.nodes[node_id][\"label\"] = \"Kenneth Koelnn\"\n",
    "        else:\n",
    "            G.nodes[node_id][\"title\"] = name\n",
    "            G.nodes[node_id][\"label\"] = name\n",
    "            \n",
    "        if node_id in highlight_refs:\n",
    "            G.nodes[node_id][\"color\"] = \"#FF0000\"\n",
    "        else:\n",
    "            if any(employer in notable_employers for employer in employers):\n",
    "                G.nodes[node_id][\"color\"] = \"#38D160\"\n",
    "            else:\n",
    "                G.nodes[node_id][\"color\"] = \"#97C2FC\"\n",
    "            \n",
    "        if birth_year and birth_year < 1860:\n",
    "            G.nodes[node_id][\"color\"] = adjust_color_brightness(G.nodes[node_id][\"color\"], 1.3)\n",
    "            \n",
    "        if death_year and 1930 < death_year < 1950:\n",
    "            G.nodes[node_id][\"color\"] = adjust_color_brightness(G.nodes[node_id][\"color\"], 0.7)\n",
    "            \n",
    "        if birth_year:\n",
    "            G.nodes[node_id][\"title\"] += f\"\\n({birth_year}-\" \n",
    "            G.nodes[node_id][\"label\"] += f\"\\n({birth_year}-\"\n",
    "            \n",
    "            if death_year:\n",
    "                G.nodes[node_id][\"title\"] += f\"{death_year})\" \n",
    "                G.nodes[node_id][\"label\"] += f\"{death_year})\"\n",
    "            else:\n",
    "                G.nodes[node_id][\"title\"] += f\")\" \n",
    "                G.nodes[node_id][\"label\"] += f\")\"\n",
    "        \n",
    "    else:\n",
    "        G.nodes[node_id][\"label\"] = G.nodes[node_id][\"title\"]\n",
    "        G.nodes[node_id][\"color\"] = \"#9F9F9F\"\n",
    "            \n",
    "    del G.nodes[node_id][\"names\"]"
   ]
  },
  {
   "cell_type": "markdown",
   "id": "7df25fba",
   "metadata": {},
   "source": [
    "Nachdem die Knoten vorverarbeitet wurden, erfolt hier ein Export in das `.gexf`-Format. Dieses Dateiformat lässt sich in [Gephi](https://gephi.org/) öffnen, einem WYSIWYG-Tool für die Analyse und Visualisierung von Netzwerken. \n",
    "\n",
    "Wurde hier drinnengelassen, falls andere dieses Skript zum Nachvollziehen nutzen wollen, wir haben mit Gephi aber nicht gearbeitet."
   ]
  },
  {
   "cell_type": "code",
   "execution_count": null,
   "id": "f662f141",
   "metadata": {},
   "outputs": [],
   "source": [
    "nx.write_gexf(G, \"brief-netzwerk.gexf\")"
   ]
  },
  {
   "cell_type": "markdown",
   "id": "c6de6ec2",
   "metadata": {},
   "source": [
    "Nachfolgend die eigentliche Visualisierung. Dazu wird die Bibliothek [pyvis](https://pyvis.readthedocs.io/en/latest/tutorial.html) verwendet und das Ergebnis in einer HTML-Datei gespeichert, die sich mit einem Browser öffnen lässt. "
   ]
  },
  {
   "cell_type": "code",
   "execution_count": null,
   "id": "1c3ba4ab",
   "metadata": {},
   "outputs": [
    {
     "name": "stdout",
     "output_type": "stream",
     "text": [
      "brief-netzwerk-labowsky-klibansky.html\n"
     ]
    },
    {
     "data": {
      "text/html": [
       "\n",
       "        <iframe\n",
       "            width=\"100%\"\n",
       "            height=\"1400px\"\n",
       "            src=\"brief-netzwerk-labowsky-klibansky.html\"\n",
       "            frameborder=\"0\"\n",
       "            allowfullscreen\n",
       "            \n",
       "        ></iframe>\n",
       "        "
      ],
      "text/plain": [
       "<IPython.lib.display.IFrame at 0x73dda1bf1330>"
      ]
     },
     "execution_count": 20,
     "metadata": {},
     "output_type": "execute_result"
    }
   ],
   "source": [
    "net = Network(height=\"1400px\", width=\"100%\", notebook=True,  bgcolor=\"#ffffff\", font_color=\"black\", cdn_resources='in_line')\n",
    "net.from_nx(G)\n",
    "net.force_atlas_2based()\n",
    "net.show(\"brief-netzwerk-labowsky-klibansky.html\")"
   ]
  }
 ],
 "metadata": {
  "kernelspec": {
   "display_name": "Python 3",
   "language": "python",
   "name": "python3"
  },
  "language_info": {
   "codemirror_mode": {
    "name": "ipython",
    "version": 3
   },
   "file_extension": ".py",
   "mimetype": "text/x-python",
   "name": "python",
   "nbconvert_exporter": "python",
   "pygments_lexer": "ipython3",
   "version": "3.10.12"
  }
 },
 "nbformat": 4,
 "nbformat_minor": 5
}
