{
 "cells": [
  {
   "cell_type": "code",
   "execution_count": 3,
   "id": "1a2e294a",
   "metadata": {},
   "outputs": [],
   "source": [
    "from bs4 import BeautifulSoup\n",
    "import pathlib"
   ]
  },
  {
   "cell_type": "markdown",
   "id": "8ddc085d",
   "metadata": {},
   "source": [
    "# XML Parsing als Grundlage für weitere Analysen \n",
    "\n",
    "> XML Parsing bezeichnet den Prozess des Einlesens und Strukturierens von XML-Daten in einer Weise, dass sie maschinell verarbeitet werden können. Dabei wird das XML-Dokument in eine baumartige Datenstruktur (z. B. DOM – Document Object Model) umgewandelt, sodass einzelne Elemente, Attribute und Inhalte gezielt ausgelesen, verändert oder analysiert werden können.\n",
    "\n",
    "Für das Einlesen und Verarbeiten der Daten verwenden wir die Python-Bibliothek [BeautifulSoup](https://beautiful-soup-4.readthedocs.io/en/latest/). \n",
    "\n",
    "Wir erstellen für die weitere Verwendung zunächst eine Referenz auf unser Arbeitsverzeichnis und dann auf die Datei, die wir beispielhaft auslesen und durchsuchen möchten:"
   ]
  },
  {
   "cell_type": "code",
   "execution_count": 8,
   "id": "84a1e057",
   "metadata": {},
   "outputs": [],
   "source": [
    "NOTEBOOK_PATH = pathlib.Path().resolve()\n",
    "DATA_DIRECTORY = NOTEBOOK_PATH / \"data\" / \"annotated\"\n",
    "FILE_PATH = DATA_DIRECTORY / \"1949-02-12_Labowsky_Klibansky.xml\""
   ]
  },
  {
   "cell_type": "markdown",
   "id": "7355af34",
   "metadata": {},
   "source": [
    "Anschließend kann die Datei eingelesen werden."
   ]
  },
  {
   "cell_type": "code",
   "execution_count": 9,
   "id": "2e0a98e4",
   "metadata": {},
   "outputs": [],
   "source": [
    "with open(FILE_PATH, \"r\", encoding=\"utf-8\") as datei:\n",
    "    soup = BeautifulSoup(datei, \"xml\")  "
   ]
  },
  {
   "cell_type": "markdown",
   "id": "17c37853",
   "metadata": {},
   "source": [
    "Sobald dies geschehen ist, erlaubt uns BeautifulSoup eine Vielzahl von Operationen für die Suche und Anzeige. Angenommen wir möchten uns das teiHeader-Element ansehen und (menschenlesbar) ausgeben lassen:"
   ]
  },
  {
   "cell_type": "code",
   "execution_count": 6,
   "id": "a01e2dcb",
   "metadata": {},
   "outputs": [
    {
     "name": "stdout",
     "output_type": "stream",
     "text": [
      "<teiHeader>\n",
      " <fileDesc>\n",
      "  <titleStmt>\n",
      "   <title>\n",
      "    Brief von Lotte Labowsky an Raymond Klibansky vom 12. Februar 1949\n",
      "   </title>\n",
      "   <author ref=\"http://d-nb.info/gnd/1029912939\"/>\n",
      "  </titleStmt>\n",
      "  <publicationStmt>\n",
      "   <publisher>\n",
      "    Literaturarchiv Marbach\n",
      "   </publisher>\n",
      "   <idno>\n",
      "    1949-02-12_Labowsky_Klibansky\n",
      "   </idno>\n",
      "  </publicationStmt>\n",
      "  <sourceDesc>\n",
      "   <msDesc>\n",
      "    <msIdentifier>\n",
      "     <repository>\n",
      "      Literaturarchiv Marbach\n",
      "     </repository>\n",
      "     <idno/>\n",
      "    </msIdentifier>\n",
      "    <physDesc>\n",
      "     <objectDesc>\n",
      "      <supportDesc>\n",
      "       <support>\n",
      "        handschriftlich\n",
      "       </support>\n",
      "      </supportDesc>\n",
      "     </objectDesc>\n",
      "    </physDesc>\n",
      "    <history>\n",
      "     <origin>\n",
      "      <origDate>\n",
      "       1949-02-12\n",
      "      </origDate>\n",
      "      <origPlace>\n",
      "       Somerville College\n",
      "      </origPlace>\n",
      "     </origin>\n",
      "    </history>\n",
      "   </msDesc>\n",
      "  </sourceDesc>\n",
      " </fileDesc>\n",
      " <profileDesc>\n",
      "  <langUsage>\n",
      "   <language ident=\"en\"/>\n",
      "  </langUsage>\n",
      "  <textClass>\n",
      "   <keywords scheme=\"LOC\">\n",
      "    <term/>\n",
      "   </keywords>\n",
      "  </textClass>\n",
      " </profileDesc>\n",
      " <revisionDesc>\n",
      "  <change when=\"2025-06-23\">\n",
      "   Gregor Große-Bölting\n",
      "  </change>\n",
      "  <change when=\"2025-05-19\">\n",
      "   Digitalisierung durch Moritz Riemann\n",
      "  </change>\n",
      " </revisionDesc>\n",
      "</teiHeader>\n",
      "\n"
     ]
    }
   ],
   "source": [
    "tei_header = soup.find(\"teiHeader\")\n",
    "print(tei_header.prettify())"
   ]
  },
  {
   "cell_type": "markdown",
   "id": "23cfabad",
   "metadata": {},
   "source": [
    "Zugriff auf den *reinen* Text haben wir, in dem alle paragraph-Elemente herausgesucht und deren Text-Inhalt ausgegeben wird. "
   ]
  },
  {
   "cell_type": "code",
   "execution_count": null,
   "id": "b01106de",
   "metadata": {},
   "outputs": [
    {
     "name": "stdout",
     "output_type": "stream",
     "text": [
      "\n",
      "\n",
      "[↑] and they seemed to enjoy themselves.\n",
      "[↑] and frozen fruit and coffee and [?] and sandwiches\n",
      "[↑] & another young man and girl. I gave them ice cream\n",
      "[↑] I had a party with Chipman, Marianne [Horustein?],\n",
      "Somerville College\n",
      "12 February\n",
      "My dear Raymond\n",
      "many thanks for your\n",
      "letters of 3rd and 8th February. I am very\n",
      "glad that you get some pleasure out of your\n",
      "lectures and that they are a great success,\n",
      "though that does not surprise me in the least.\n",
      "I sent you the Hobbes letter and the Lieftinck\n",
      "photostats on Friday. Yesterday I received\n",
      "from Miss Bing photostats of the relevant\n",
      "passages in the Galen De Consuetudinibus.\n",
      "At my request she has photostated (a)\n",
      "the whole fascicule to keep it in the Library\n",
      "at our disposal (b) the important pages,\n",
      "to be sent to you.\n",
      "It is a German.\n",
      "translation of the Arabic text. A part from\n",
      "the Proclus text which exists only in\n",
      "Arabic, there are the two small fragments\n",
      "from the Timaeus itself which are from a\n",
      "\n",
      "\n",
      "\n",
      "\n",
      "(to the end of the dialogue)\n",
      "[gestrichen] context than the one translated by\n",
      "Chalcidius and have been preserved in the\n",
      "Latin translation of the Galen. I wonder\n",
      "whether they should be printed as an\n",
      "appendix to the Chalcidius. Or with the\n",
      "Cicero? - As to the Berlin Ms., Mrs Bing\n",
      "has just had the visit from a woman (Frl. Chr.\n",
      "v. Kühn?) who seems an old friend and\n",
      "who is in charge of Monuments in Berlin\n",
      "(\"Schlösser und Gärten\"). She strickes me as\n",
      "a better person to write to than Frau Kirchner.\n",
      "I shall arrange that with Bing when I see\n",
      "her this week. - Walzer has written to me that\n",
      "he has been informed that the MS of the Theologia\n",
      "Aristoteles, [the one] used by Dieterici, formerly in Berlin\n",
      "is in Tübingin now. It would cost ca. 53 DM\n",
      "to have it photostated and he could arrange\n",
      "payment through Snell (whose daughter is with\n",
      "the Walzers more or less permanently) unless\n",
      "the W. I. had German funds for these\n",
      "purposes. I had written to Bing inquiring\n",
      "about this and to Walzer, asking him\n",
      "provisionally whether it would not be possible\n",
      "to have microfilms made instead of\n",
      "photostats. I hope this was all right.\n",
      "\n",
      "\n",
      "\n",
      "\n",
      "The [Minias?] have a little daughter Margarita\n",
      "Juan, everything went well, Mother and child\n",
      "are well and as the child is now a week\n",
      "old the critical time seems to have passed.\n",
      "They are very happy.\n",
      "He received the first proofes of the Phaedo\n",
      "a few days after the baby arrived and\n",
      "was very pleased with them. There is\n",
      "not a single printing mistake in them he\n",
      "says. I expect you got a copy? From\n",
      "what you wrote to me some weeks ago, I gather\n",
      "that you do not want to read proofs, except\n",
      "for the last ones? Correct me if I am\n",
      "wrong. I agreed to look at the proofs\n",
      "with him. Please let us know if there\n",
      "is anything which you don't like.\n",
      "I have written to Sonja about\n",
      "the Taylor MS. If it is still in my\n",
      "drawer when I come to London, I shall\n",
      "send it. I shall be in London on\n",
      "Tuesday. The Walzer proofs were sent to\n",
      "me here. I shall take Mom to the \n",
      "institute.\n",
      "\n",
      "\n",
      "\n",
      "\n",
      "Minio is going to Italy during the Easter holidayes\n",
      "You write about my coming (or not\n",
      "coming) to Montreal always in expressions like\n",
      "\"if you really decided...\" or \"do not want\"\n",
      "etc., as if I were a free agent. Believe\n",
      "me the temptation to get out of this place,\n",
      "especially with the prospect of - for my\n",
      "standards - many tutorials, and to go to\n",
      "Montreal, (not to speak of the temptation to\n",
      "exchange the rissoles and whale steaks against\n",
      "barbecue chicken and steaks!) is overwhelming.\n",
      "But I really do not see how I can having\n",
      "accepted this position, get out of my obligations\n",
      "whenever I chose and then come back and take\n",
      "what they give me - (even if it is only whale\n",
      "steak). It is a question of 'Either - Or'.\n",
      "As I said, I might be able to take leave\n",
      "of absence for the Michaelmas Term. -\n",
      "I shall have the apparatus fontium in print\n",
      "before I leave.\n",
      "All the best,\n",
      "Love,\n",
      "Yours\n",
      "Lotte\n",
      "\n",
      "\n"
     ]
    }
   ],
   "source": [
    "paragraphs = soup.find_all(\"p\")\n",
    "for p in paragraphs:\n",
    "    print(p.get_text())"
   ]
  },
  {
   "cell_type": "markdown",
   "id": "f611dd2d",
   "metadata": {},
   "source": [
    "Auf ähnliche Weise können wir auch alle Personennamen (oder beliebige andere Elemente) suchen und uns anzeigen lassen."
   ]
  },
  {
   "cell_type": "code",
   "execution_count": 7,
   "id": "9baf2c8f",
   "metadata": {},
   "outputs": [
    {
     "name": "stdout",
     "output_type": "stream",
     "text": [
      "Name: Raymond, Ref: gnd-118777378\n",
      "Name: Lieftinck, Ref: gnd-126628432\n",
      "Name: Miss Bing, Ref: gnd-116183853\n",
      "Name: Chalcidius, Ref: gnd-118669036\n",
      "Name: Chalcidius, Ref: gnd-118669036\n",
      "Name: Cicero, Ref: gnd-102384894\n",
      "Name: Mrs Bing, Ref: gnd-116183853\n",
      "Name: Bing, Ref: gnd-116183853\n",
      "Name: Walzer, Ref: gnd-123279933\n",
      "Name: Dieterici, Ref: gnd-116112093\n",
      "Name: Snell, Ref: gnd-118797786\n",
      "Name: Bing, Ref: gnd-116183853\n",
      "Name: Walzer, Ref: gnd-123279933\n",
      "Name: Minias?, Ref: gnd-122779983\n",
      "Name: Walzer, Ref: gnd-123279933\n",
      "Name: Minio, Ref: gnd-122779983\n",
      "Name: Lotte, Ref: gnd-1029912939\n"
     ]
    }
   ],
   "source": [
    "pers_names = soup.find_all(\"persName\") # funktioniert auch für placeName etc.\n",
    "\n",
    "ergebnisse = []\n",
    "for pers in pers_names:\n",
    "    name_text = pers.get_text(strip=True)       \n",
    "    ref_wert = pers.get(\"ref\", None)\n",
    "    ergebnisse.append((name_text, ref_wert))\n",
    "\n",
    "for name, ref in ergebnisse:\n",
    "    print(f\"Name: {name}, Ref: {ref}\")"
   ]
  }
 ],
 "metadata": {
  "kernelspec": {
   "display_name": "Python 3",
   "language": "python",
   "name": "python3"
  },
  "language_info": {
   "codemirror_mode": {
    "name": "ipython",
    "version": 3
   },
   "file_extension": ".py",
   "mimetype": "text/x-python",
   "name": "python",
   "nbconvert_exporter": "python",
   "pygments_lexer": "ipython3",
   "version": "3.11.0"
  }
 },
 "nbformat": 4,
 "nbformat_minor": 5
}
