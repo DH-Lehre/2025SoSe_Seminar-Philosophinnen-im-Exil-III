{
 "cells": [
  {
   "cell_type": "code",
   "execution_count": 2,
   "id": "983e206c",
   "metadata": {},
   "outputs": [],
   "source": [
    "# imports für Tesseract\n",
    "from PIL import Image, ImageOps\n",
    "import pytesseract\n",
    "\n",
    "# imports für OpenAI\n",
    "import openai\n",
    "import os\n",
    "import base64\n",
    "from dotenv import load_dotenv"
   ]
  },
  {
   "cell_type": "markdown",
   "id": "1775bb8f",
   "metadata": {},
   "source": [
    "# Transkription von Maschinen- und Handschrift\n",
    "\n",
    "Maschinenschrifterkennung (optical character recognition, OCR) kann mit Tesseract umgesetzt werden, einer bereits seit den 80ern in Entwicklung befindlicher Software, die inzwischen Open Source und quasi-Standard in diesem Bereich ist. Um Tesseract mit Python verwenden zu können, muss die Anwendung zunächst installiert werden, s.: https://tesseract-ocr.github.io/tessdoc/Installation.html Unter Windows ist darauf zu achten, dass die CL-Anwendung auf dem Pfad liegen mussen (s. Umgebungsvariablen). "
   ]
  },
  {
   "cell_type": "code",
   "execution_count": 11,
   "id": "802f2f67",
   "metadata": {},
   "outputs": [
    {
     "data": {
      "text/plain": [
       "'Kulturwisgenschaftiche Biolothek Warburg\\n\\nHamburg 20\\n\\nrt seite.\\n\\n'"
      ]
     },
     "execution_count": 11,
     "metadata": {},
     "output_type": "execute_result"
    }
   ],
   "source": [
    "def preprocess_image(image_path, threshold=150):\n",
    "    \"\"\"\n",
    "    Vorverarbeitung des Bildes, um den Kontrast vom Text zum Hintergrund zu schärfen. \n",
    "    \"\"\"\n",
    "    image = Image.open(image_path).convert(\"L\")  # \"L\" = 8-bit grayscale\n",
    "    return image.point(lambda x: 0 if x < threshold else 255, '1')\n",
    "\n",
    "def ocr_image(image_path, lang=\"deu\"):\n",
    "    image = preprocess_image(image_path)\n",
    "    return pytesseract.image_to_string(image, lang=lang)\n",
    "\n",
    "ocr_image(\"img/letter_gertrud_1.png\")"
   ]
  },
  {
   "cell_type": "markdown",
   "id": "86cc2cbf",
   "metadata": {},
   "source": [
    "Wie deutlich zu erkennen ist, ist das Ergebnis der Transkription sehr schlecht: Für Tesseract ist die Qualität des Ausgangsdokuments nicht gut genug. \n",
    "\n",
    "Multimodale LLMs kommen auch mit ungewöhnlichen Dokumenten und einer schlechten Auflösung, und sogar mit Handschriften erstaunlich gut klar. Im folgenden wird die OpenAI-API mit dem o4-Modell verwendet. Dazu ist ein OpenAI API-Key notwendig, der sich über das Entwickler-Dashboard erstellen lässt. "
   ]
  },
  {
   "cell_type": "code",
   "execution_count": 5,
   "id": "5b58db05",
   "metadata": {},
   "outputs": [],
   "source": [
    "# API key laden\n",
    "load_dotenv(\".env\")\n",
    "openai.api_key = os.getenv(\"OPENAI_KEY\") "
   ]
  },
  {
   "cell_type": "code",
   "execution_count": 8,
   "id": "a6edc844",
   "metadata": {},
   "outputs": [],
   "source": [
    "def encode_image(image_path):\n",
    "    with open(image_path, \"rb\") as image_file:\n",
    "        return base64.b64encode(image_file.read()).decode(\"utf-8\")\n",
    "    \n",
    "def transcribe(image_path):\n",
    "    base64image = encode_image(image_path)\n",
    "    response = openai.ChatCompletion.create(\n",
    "        model=\"gpt-4o\",\n",
    "        messages=[\n",
    "            {\"role\": \"system\", \"content\": \"Du bist ein hilfreicher Assistent, der Handschrift transkribiert.\"},\n",
    "            {\n",
    "                \"role\": \"user\",\n",
    "                \"content\": [\n",
    "                    {\"type\": \"text\", \"text\": \"Bitte transkribiere den handschriftlichen Text in diesem Bild so genau wie möglich.\"},\n",
    "                    {\n",
    "                        \"type\": \"image_url\",\n",
    "                        \"image_url\": {\n",
    "                            \"url\": f\"data:image/png;base64,{base64image}\"\n",
    "                        }\n",
    "                    }\n",
    "                ]\n",
    "            }\n",
    "        ],\n",
    "        max_tokens=2000\n",
    "    )\n",
    "    return response['choices'][0]['message']['content']"
   ]
  },
  {
   "cell_type": "code",
   "execution_count": 10,
   "id": "63f66399",
   "metadata": {},
   "outputs": [
    {
     "name": "stdout",
     "output_type": "stream",
     "text": [
      "London. 12. 12. 1946\n",
      "\n",
      "My dear Raymond,\n",
      "\n",
      "Thank you very much for your two letters. One from London and the other from Montreal. How very relieved to see from the cable, which says Aunt sent me, that gift had arrived safely and that letter had got through too, it was not too much of an ordeal. But John's several extra stops in London must have been something of a trial.\n",
      "\n",
      "Mrs. Hamilton discoursed your last visit very vividly to me. She was full of self-reproach because she let you go to Canada without a proper breakfast and with not seeing you gone coat button on and I had to promise that I would write her apologies to you. There is another woman whose protective and maternal instincts you have thoroughly aroused. I would have written to you earlier but according to my very unheroic fashion I went down with a small attack of the lovely after you went.\n",
      "\n",
      "Not, however, before I had done some tidying in your room, taking away the things destined for me, gas books, to the Taylor, calling on Hunt etc - and having my class. The letter to Warwick has also gone.\n",
      "\n",
      "The one to Astra has been written and will go today. Scotts have my address. I have only come over to London for two days in order to attend to various matters and am going back to Oxford tonight in order to finish tidying up and Christmas preparing in college.\n",
      "\n"
     ]
    }
   ],
   "source": [
    "print(transcribe(\"img/letter_lotte.png\"))"
   ]
  }
 ],
 "metadata": {
  "kernelspec": {
   "display_name": "Python 3",
   "language": "python",
   "name": "python3"
  },
  "language_info": {
   "codemirror_mode": {
    "name": "ipython",
    "version": 3
   },
   "file_extension": ".py",
   "mimetype": "text/x-python",
   "name": "python",
   "nbconvert_exporter": "python",
   "pygments_lexer": "ipython3",
   "version": "3.11.0"
  }
 },
 "nbformat": 4,
 "nbformat_minor": 5
}
