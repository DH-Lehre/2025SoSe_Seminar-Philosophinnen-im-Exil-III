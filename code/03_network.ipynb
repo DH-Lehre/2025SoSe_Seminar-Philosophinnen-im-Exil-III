{
 "cells": [
  {
   "cell_type": "code",
   "execution_count": 17,
   "id": "df1fcb78",
   "metadata": {},
   "outputs": [],
   "source": [
    "from bs4 import BeautifulSoup\n",
    "import pathlib, os\n",
    "import networkx as nx\n",
    "from pyvis.network import Network"
   ]
  },
  {
   "cell_type": "markdown",
   "id": "57c92793",
   "metadata": {},
   "source": [
    "# Netzwerkvisualisierung der in den Briefen erwähnten Personen"
   ]
  },
  {
   "cell_type": "code",
   "execution_count": 18,
   "id": "88591599",
   "metadata": {},
   "outputs": [],
   "source": [
    "NOTEBOOK_PATH = pathlib.Path().resolve()\n",
    "DATA_DIRECTORY = NOTEBOOK_PATH / \"data\" / \"annotated\""
   ]
  },
  {
   "cell_type": "markdown",
   "id": "3312fe8c",
   "metadata": {},
   "source": [
    "Für das Netzwerk und Operationen im Netzwerk wird die Python-Bibliothek [networkx](https://networkx.org/) verwendet. Dazu wird zunächst ein Graph-Objekt erstellt, das anschließend die Knoten und Kanten vorhält. "
   ]
  },
  {
   "cell_type": "code",
   "execution_count": 19,
   "id": "c72d1e6b",
   "metadata": {},
   "outputs": [],
   "source": [
    "G = nx.Graph()"
   ]
  },
  {
   "cell_type": "markdown",
   "id": "c012f932",
   "metadata": {},
   "source": [
    "Knoten und Kanten kann man auf alle möglichen Arten bilden: Im folgenden Beispiel steht jedes ref-Attribut für einen Knoten, die Beschriftung bilden die verschiedenen Schreibweisen, die sich in TEI zwischen den Tags befinden. Eine Kante wird zwischen einer Personenreferenz und der nachfolgenden und vorhergehenden Referenz gebildet; es wird also davon ausgegagen, dass Personen in einem Brief etwas mit den vorher und nachher genannten Person zu tun haben. \n",
    "\n",
    "* Was wären andere Möglichkeiten Knoten zu bilden?\n",
    "* Was wäre eine andere Variante, um Kanten zu bilden?"
   ]
  },
  {
   "cell_type": "code",
   "execution_count": 20,
   "id": "8827ddd0",
   "metadata": {},
   "outputs": [],
   "source": [
    "for FILE_NAME in os.listdir(DATA_DIRECTORY):\n",
    "    if not FILE_NAME.endswith(\".xml\"):\n",
    "        continue\n",
    "\n",
    "    with open(DATA_DIRECTORY / FILE_NAME, \"r\", encoding=\"utf-8\") as f:\n",
    "        soup = BeautifulSoup(f, \"xml\")\n",
    "\n",
    "    pers_names = soup.find_all(\"persName\")\n",
    "    previous_ref = None\n",
    "\n",
    "    for pers in pers_names:\n",
    "        ref = pers.get(\"ref\")\n",
    "        name = pers.get_text(strip=True)\n",
    "\n",
    "        if not ref:\n",
    "            continue  \n",
    "\n",
    "        if not G.has_node(ref):\n",
    "            G.add_node(ref, label=name, title=name, count=1, names=set())\n",
    "        else:\n",
    "            G.nodes[ref][\"count\"] += 1\n",
    "            G.nodes[ref][\"title\"] += f\", {name}\"\n",
    "\n",
    "        G.nodes[ref][\"names\"].add(name)\n",
    "\n",
    "        if previous_ref and previous_ref != ref:\n",
    "            G.add_edge(previous_ref, ref)\n",
    "\n",
    "        previous_ref = ref"
   ]
  },
  {
   "cell_type": "markdown",
   "id": "6d3a9d3c",
   "metadata": {},
   "source": [
    "Für die Darstellung des Netzwerks in einer Visualisierung werden die Knoten von Bing, Labowsky und Klibansky rot einefärbt, um sie schneller identifizieren zu können. Außerdem wir die Größe der Knoten anhand der Häufigkeit der Nennungen (insgesamt skaliert).\n",
    "\n",
    "* Wie könnte man die Knoten noch einfärben, um sich leichter in der Visualisierung orientieren zu können? \n",
    "* Welche Möglichkeit gibt es noch, um die Knotengröße festzulegen?"
   ]
  },
  {
   "cell_type": "code",
   "execution_count": 21,
   "id": "8217f25a",
   "metadata": {},
   "outputs": [],
   "source": [
    "highlight_refs = {\"gnd-1029912939\", \"gnd-118777378\", \"gnd-116183853\"}  \n",
    "for node_id in G.nodes:\n",
    "    freq = G.nodes[node_id][\"count\"]\n",
    "    G.nodes[node_id][\"size\"] = 10 + freq * 2  \n",
    "\n",
    "    if node_id in highlight_refs:\n",
    "        G.nodes[node_id][\"color\"] = \"#FF0000\"\n",
    "    else:\n",
    "        G.nodes[node_id][\"color\"] = \"#97C2FC\""
   ]
  },
  {
   "cell_type": "code",
   "execution_count": 22,
   "id": "5e64b528",
   "metadata": {},
   "outputs": [],
   "source": [
    "for node_id in G.nodes:\n",
    "    names = G.nodes[node_id][\"names\"]\n",
    "    label = \", \".join(sorted(names))\n",
    "    G.nodes[node_id][\"title\"] = label\n",
    "    G.nodes[node_id][\"label\"] = label\n",
    "    del G.nodes[node_id][\"names\"]"
   ]
  },
  {
   "cell_type": "markdown",
   "id": "7df25fba",
   "metadata": {},
   "source": [
    "Nachdem die Knoten vorverarbeitet wurden, erfolt hier ein Export in das `.gexf`-Format. Dieses Dateiformat lässt sich in [Gephi](https://gephi.org/) öffnen, einem WYSIWYG-Tool für die Analyse und Visualisierung von Netzwerken. "
   ]
  },
  {
   "cell_type": "code",
   "execution_count": 23,
   "id": "f662f141",
   "metadata": {},
   "outputs": [],
   "source": [
    "nx.write_gexf(G, \"brief-netzwerk.gexf\")"
   ]
  },
  {
   "cell_type": "markdown",
   "id": "c6de6ec2",
   "metadata": {},
   "source": [
    "Nachfolgend die eigentliche Visualisierung. Dazu wird die Bibliothek [pyvis](https://pyvis.readthedocs.io/en/latest/tutorial.html) verwendet und das Ergebnis in einer HTML-Datei gespeichert, die sich mit einem Browser öffnen lässt. "
   ]
  },
  {
   "cell_type": "code",
   "execution_count": 24,
   "id": "1c3ba4ab",
   "metadata": {},
   "outputs": [
    {
     "name": "stdout",
     "output_type": "stream",
     "text": [
      "brief-netzwerk.html\n"
     ]
    },
    {
     "data": {
      "text/html": [
       "\n",
       "        <iframe\n",
       "            width=\"100%\"\n",
       "            height=\"1000px\"\n",
       "            src=\"brief-netzwerk.html\"\n",
       "            frameborder=\"0\"\n",
       "            allowfullscreen\n",
       "            \n",
       "        ></iframe>\n",
       "        "
      ],
      "text/plain": [
       "<IPython.lib.display.IFrame at 0x1aeffe3fb10>"
      ]
     },
     "execution_count": 24,
     "metadata": {},
     "output_type": "execute_result"
    }
   ],
   "source": [
    "net = Network(height=\"1000px\", width=\"100%\", notebook=True, bgcolor=\"#ffffff\", font_color=\"black\", cdn_resources='in_line')\n",
    "net.from_nx(G)\n",
    "net.force_atlas_2based()\n",
    "\n",
    "net.show(\"brief-netzwerk.html\")"
   ]
  }
 ],
 "metadata": {
  "kernelspec": {
   "display_name": "Python 3",
   "language": "python",
   "name": "python3"
  },
  "language_info": {
   "codemirror_mode": {
    "name": "ipython",
    "version": 3
   },
   "file_extension": ".py",
   "mimetype": "text/x-python",
   "name": "python",
   "nbconvert_exporter": "python",
   "pygments_lexer": "ipython3",
   "version": "3.11.0"
  }
 },
 "nbformat": 4,
 "nbformat_minor": 5
}
